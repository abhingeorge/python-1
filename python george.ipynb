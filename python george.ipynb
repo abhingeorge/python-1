{
 "cells": [
  {
   "cell_type": "code",
   "execution_count": 2,
   "id": "97105c6b",
   "metadata": {},
   "outputs": [
    {
     "name": "stdout",
     "output_type": "stream",
     "text": [
      "Celsius: 37\n",
      "Fahrenheit: 98.6\n"
     ]
    }
   ],
   "source": [
    "#python program to convert celsius to farenheit \n",
    "c = float(input(\"Celsius: \"))\n",
    "f = (c * 9/5) + 32\n",
    "print(f\"Fahrenheit: {f}\")\n"
   ]
  },
  {
   "cell_type": "code",
   "execution_count": 8,
   "id": "1ea7a708",
   "metadata": {},
   "outputs": [
    {
     "name": "stdout",
     "output_type": "stream",
     "text": [
      "Kilometers: 100\n",
      "Miles: 62.14\n"
     ]
    }
   ],
   "source": [
    "km = float(input(\"Kilometers: \"))\n",
    "miles = km * 0.621371\n",
    "print(\"Miles:\", round(miles, 2))"
   ]
  },
  {
   "cell_type": "code",
   "execution_count": null,
   "id": "a7ad67d5",
   "metadata": {},
   "outputs": [],
   "source": []
  }
 ],
 "metadata": {
  "kernelspec": {
   "display_name": "Python 3 (ipykernel)",
   "language": "python",
   "name": "python3"
  },
  "language_info": {
   "codemirror_mode": {
    "name": "ipython",
    "version": 3
   },
   "file_extension": ".py",
   "mimetype": "text/x-python",
   "name": "python",
   "nbconvert_exporter": "python",
   "pygments_lexer": "ipython3",
   "version": "3.9.7"
  }
 },
 "nbformat": 4,
 "nbformat_minor": 5
}

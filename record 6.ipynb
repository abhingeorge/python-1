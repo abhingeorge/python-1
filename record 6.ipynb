{
 "cells": [
  {
   "cell_type": "code",
   "execution_count": 2,
   "id": "973f0d24",
   "metadata": {},
   "outputs": [
    {
     "name": "stdout",
     "output_type": "stream",
     "text": [
      "enter a wordabhin\n",
      "Exchange_word: nbhia\n"
     ]
    }
   ],
   "source": [
    "#write a python program to change a given string to a newstring where the first and last chars have been changed\n",
    "\n",
    "word=input(\"enter a word\")\n",
    "new_word=word[-1] + word[1:-1] + word[0]\n",
    "print(\"Exchange_word:\",new_word)"
   ]
  },
  {
   "cell_type": "code",
   "execution_count": 33,
   "id": "df016e4b",
   "metadata": {},
   "outputs": [
    {
     "name": "stdout",
     "output_type": "stream",
     "text": [
      "Enter first string: abhi\n",
      "Enter second string: n\n",
      "Combined string with swapped first 2 chars: nhi ab\n"
     ]
    }
   ],
   "source": [
    "s1 = input(\"Enter first string: \")\n",
    "s2 = input(\"Enter second string: \")\n",
    "a = s2[:2] + s1[2:]\n",
    "b = s1[:2] + s2[2:]\n",
    "print(\"Combined string with swapped first 2 chars:\", a + ' ' + b)\n",
    "\n"
   ]
  },
  {
   "cell_type": "code",
   "execution_count": 34,
   "id": "90920061",
   "metadata": {},
   "outputs": [
    {
     "name": "stdout",
     "output_type": "stream",
     "text": [
      "Enter a string: abhin\n",
      "String after exchanging first and last chars: nbhia\n"
     ]
    }
   ],
   "source": [
    "s = input(\"Enter a string: \")\n",
    "result = s[-1] + s[1:-1] + s[0]\n",
    "print(\"String after exchanging first and last chars:\", result)\n"
   ]
  },
  {
   "cell_type": "code",
   "execution_count": 35,
   "id": "7b818bce",
   "metadata": {},
   "outputs": [
    {
     "name": "stdout",
     "output_type": "stream",
     "text": [
      "Enter a string: we\n",
      "String made of first 2 and last 2 chars: wewe\n"
     ]
    }
   ],
   "source": [
    "s = input(\"Enter a string: \")\n",
    "result = (s[:2] + s[-2:]) if len(s) >= 2 else \"\"\n",
    "print(\"String made of first 2 and last 2 chars:\", result)\n"
   ]
  },
  {
   "cell_type": "code",
   "execution_count": 36,
   "id": "f018c576",
   "metadata": {},
   "outputs": [
    {
     "name": "stdout",
     "output_type": "stream",
     "text": [
      "Enter a string: onion\n",
      "String after change: oni$n\n"
     ]
    }
   ],
   "source": [
    "# python program to get a string from a given string its first char have been changed to $ ,except the first char  \n",
    "s = input(\"Enter a string: \")\n",
    "first_char = s [0]\n",
    "result = first_char + s[1:].replace(first_char, '$')\n",
    "print(\"String after change:\", result)\n",
    "\n"
   ]
  },
  {
   "cell_type": "code",
   "execution_count": 32,
   "id": "6c3359da",
   "metadata": {},
   "outputs": [
    {
     "name": "stdout",
     "output_type": "stream",
     "text": [
      "['banana', 'apple', 'cherry', 'orange', 'avacado']\n"
     ]
    }
   ],
   "source": []
  },
  {
   "cell_type": "code",
   "execution_count": 23,
   "id": "d8050e3c",
   "metadata": {},
   "outputs": [],
   "source": []
  },
  {
   "cell_type": "code",
   "execution_count": 24,
   "id": "9be48a4a",
   "metadata": {},
   "outputs": [
    {
     "data": {
      "text/plain": [
       "['banana', 'apple', 'cherry', 'orange', 'avacado', 'apple']"
      ]
     },
     "execution_count": 24,
     "metadata": {},
     "output_type": "execute_result"
    }
   ],
   "source": []
  },
  {
   "cell_type": "code",
   "execution_count": 26,
   "id": "9318f3bd",
   "metadata": {},
   "outputs": [],
   "source": []
  },
  {
   "cell_type": "code",
   "execution_count": null,
   "id": "bfe4bbc2",
   "metadata": {},
   "outputs": [],
   "source": []
  },
  {
   "cell_type": "code",
   "execution_count": null,
   "id": "c387181b",
   "metadata": {},
   "outputs": [],
   "source": []
  },
  {
   "cell_type": "code",
   "execution_count": null,
   "id": "e78e9ae0",
   "metadata": {},
   "outputs": [],
   "source": []
  },
  {
   "cell_type": "code",
   "execution_count": null,
   "id": "b4501a83",
   "metadata": {},
   "outputs": [],
   "source": []
  },
  {
   "cell_type": "code",
   "execution_count": null,
   "id": "af683c88",
   "metadata": {},
   "outputs": [],
   "source": []
  }
 ],
 "metadata": {
  "kernelspec": {
   "display_name": "Python 3 (ipykernel)",
   "language": "python",
   "name": "python3"
  },
  "language_info": {
   "codemirror_mode": {
    "name": "ipython",
    "version": 3
   },
   "file_extension": ".py",
   "mimetype": "text/x-python",
   "name": "python",
   "nbconvert_exporter": "python",
   "pygments_lexer": "ipython3",
   "version": "3.9.7"
  }
 },
 "nbformat": 4,
 "nbformat_minor": 5
}

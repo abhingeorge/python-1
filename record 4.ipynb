{
 "cells": [
  {
   "cell_type": "code",
   "execution_count": 10,
   "id": "6fc5ac27",
   "metadata": {},
   "outputs": [
    {
     "name": "stdout",
     "output_type": "stream",
     "text": [
      "Enter a string to swap first and last chars: abhin\n",
      "After swapping first and last chars: nbhia\n"
     ]
    }
   ],
   "source": [
    "# 1. Swap first and last characters\n",
    "s = input(\"Enter a string to swap first and last chars: \")\n",
    "swapped = s[-1:] + s[1:-1] + s[:1]  # works even if string length < 2\n",
    "print(\"After swapping first and last chars:\", swapped)\n",
    "\n"
   ]
  },
  {
   "cell_type": "code",
   "execution_count": 9,
   "id": "6ed8b9ba",
   "metadata": {},
   "outputs": [
    {
     "name": "stdout",
     "output_type": "stream",
     "text": [
      "Enter a string to get first 2 and last 2 chars: abhin\n",
      "First 2 and last 2 chars: abin\n"
     ]
    }
   ],
   "source": [
    "# 2. Get string made of first 2 and last 2 chars\n",
    "s = input(\"Enter a string to get first 2 and last 2 chars: \")\n",
    "first_last = s[:2] + s[-2:]  # slicing safely handles short strings\n",
    "print(\"First 2 and last 2 chars:\", first_last)"
   ]
  },
  {
   "cell_type": "code",
   "execution_count": 8,
   "id": "28352cd1",
   "metadata": {},
   "outputs": [
    {
     "name": "stdout",
     "output_type": "stream",
     "text": [
      "Enter first string: abhin\n",
      "Enter second string: ge\n",
      "Combined string after swapping first 2 chars: gehin ab\n"
     ]
    }
   ],
   "source": [
    "# 3. Swap first two characters of two strings and combine\n",
    "s1 = input(\"Enter first string: \")\n",
    "s2 = input(\"Enter second string: \")\n",
    "new1 = s2[:2] + s1[2:]\n",
    "new2 = s1[:2] + s2[2:]\n",
    "print(\"Combined string after swapping first 2 chars:\", new1 + ' ' + new2)\n"
   ]
  },
  {
   "cell_type": "code",
   "execution_count": 7,
   "id": "77484705",
   "metadata": {},
   "outputs": [
    {
     "name": "stdout",
     "output_type": "stream",
     "text": [
      "Enter a string to replace its first char occurrences: onion\n",
      "String after replacement: oni$n\n"
     ]
    }
   ],
   "source": [
    "# 4. Replace all occurrences of first char with '$', except the first one\n",
    "s = input(\"Enter a string to replace its first char occurrences: \")\n",
    "replaced = s[:1] + s[1:].replace(s[0], '$')  # works even if string length < 1\n",
    "print(\"String after replacement:\", replaced)"
   ]
  },
  {
   "cell_type": "code",
   "execution_count": null,
   "id": "1676b2e2",
   "metadata": {},
   "outputs": [],
   "source": []
  }
 ],
 "metadata": {
  "kernelspec": {
   "display_name": "Python 3 (ipykernel)",
   "language": "python",
   "name": "python3"
  },
  "language_info": {
   "codemirror_mode": {
    "name": "ipython",
    "version": 3
   },
   "file_extension": ".py",
   "mimetype": "text/x-python",
   "name": "python",
   "nbconvert_exporter": "python",
   "pygments_lexer": "ipython3",
   "version": "3.9.7"
  }
 },
 "nbformat": 4,
 "nbformat_minor": 5
}

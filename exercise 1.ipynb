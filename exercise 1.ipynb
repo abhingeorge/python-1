{
 "cells": [
  {
   "cell_type": "code",
   "execution_count": 2,
   "id": "a2079af0",
   "metadata": {},
   "outputs": [
    {
     "name": "stdout",
     "output_type": "stream",
     "text": [
      "Enter an integer n: 3\n",
      "The result of n + nn + nnn is: 369\n"
     ]
    }
   ],
   "source": [
    "#compute the value of n+nn+nnn\n",
    "def compute_value(n):\n",
    "    return n + int(str(n)*2) + int(str(n)*3)\n",
    "\n",
    "n = int(input(\"Enter an integer n: \"))\n",
    "result = compute_value(n)\n",
    "print(f\"The result of n + nn + nnn is: {result}\")"
   ]
  },
  {
   "cell_type": "code",
   "execution_count": 3,
   "id": "d6126dfa",
   "metadata": {},
   "outputs": [
    {
     "name": "stdout",
     "output_type": "stream",
     "text": [
      "Enter the radius of the circle: 3\n",
      "The area of the circle is: 28.274333882308138\n"
     ]
    }
   ],
   "source": [
    "#input the radius of a circle and compute the area(import math)\n",
    "import math\n",
    "radius = float(input(\"Enter the radius of the circle: \"))\n",
    "area = math.pi * radius ** 2\n",
    "print(f\"The area of the circle is: {area}\")"
   ]
  },
  {
   "cell_type": "code",
   "execution_count": null,
   "id": "7f133d4a",
   "metadata": {},
   "outputs": [],
   "source": []
  }
 ],
 "metadata": {
  "kernelspec": {
   "display_name": "Python 3 (ipykernel)",
   "language": "python",
   "name": "python3"
  },
  "language_info": {
   "codemirror_mode": {
    "name": "ipython",
    "version": 3
   },
   "file_extension": ".py",
   "mimetype": "text/x-python",
   "name": "python",
   "nbconvert_exporter": "python",
   "pygments_lexer": "ipython3",
   "version": "3.9.7"
  }
 },
 "nbformat": 4,
 "nbformat_minor": 5
}

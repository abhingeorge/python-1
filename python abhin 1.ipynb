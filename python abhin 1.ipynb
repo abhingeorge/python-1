{
 "cells": [
  {
   "cell_type": "code",
   "execution_count": 1,
   "id": "21990a66",
   "metadata": {},
   "outputs": [
    {
     "name": "stdout",
     "output_type": "stream",
     "text": [
      "good morning\n"
     ]
    }
   ],
   "source": [
    "print(\"good morning\")"
   ]
  },
  {
   "cell_type": "code",
   "execution_count": 4,
   "id": "381705a5",
   "metadata": {},
   "outputs": [
    {
     "name": "stdout",
     "output_type": "stream",
     "text": [
      "thuruvelikunnel(ho) puzhamudi(po) appanavayal\n"
     ]
    }
   ],
   "source": [
    "print(\"thuruvelikunnel(ho) puzhamudi(po) appanavayal\")"
   ]
  },
  {
   "cell_type": "code",
   "execution_count": 5,
   "id": "78a25809",
   "metadata": {},
   "outputs": [
    {
     "name": "stdout",
     "output_type": "stream",
     "text": [
      "2.5\n"
     ]
    }
   ],
   "source": [
    "print(5/2)"
   ]
  },
  {
   "cell_type": "code",
   "execution_count": 6,
   "id": "43d77670",
   "metadata": {},
   "outputs": [
    {
     "name": "stdout",
     "output_type": "stream",
     "text": [
      "2\n"
     ]
    }
   ],
   "source": [
    "print(5//2)"
   ]
  },
  {
   "cell_type": "code",
   "execution_count": 7,
   "id": "928d3d2b",
   "metadata": {},
   "outputs": [
    {
     "name": "stdout",
     "output_type": "stream",
     "text": [
      "8\n"
     ]
    }
   ],
   "source": [
    "print(2**3)"
   ]
  },
  {
   "cell_type": "code",
   "execution_count": 8,
   "id": "9b042fcb",
   "metadata": {},
   "outputs": [
    {
     "name": "stdout",
     "output_type": "stream",
     "text": [
      "mca student's\n"
     ]
    }
   ],
   "source": [
    "print(\"mca student's\")"
   ]
  },
  {
   "cell_type": "code",
   "execution_count": 18,
   "id": "698edfa7",
   "metadata": {},
   "outputs": [
    {
     "name": "stdout",
     "output_type": "stream",
     "text": [
      "MCA \"student\"\n"
     ]
    }
   ],
   "source": [
    "print('MCA \"student\"')"
   ]
  },
  {
   "cell_type": "code",
   "execution_count": 24,
   "id": "2c00fa74",
   "metadata": {},
   "outputs": [],
   "source": [
    "n=\"ARJUN\""
   ]
  },
  {
   "cell_type": "code",
   "execution_count": 26,
   "id": "f51a93fc",
   "metadata": {},
   "outputs": [
    {
     "name": "stdout",
     "output_type": "stream",
     "text": [
      "ARJUN\n"
     ]
    }
   ],
   "source": [
    "print(n)"
   ]
  },
  {
   "cell_type": "code",
   "execution_count": 35,
   "id": "a01388f7",
   "metadata": {},
   "outputs": [
    {
     "name": "stdout",
     "output_type": "stream",
     "text": [
      "name= ARJ\n"
     ]
    }
   ],
   "source": [
    "print(\"name=\",n[0:3])"
   ]
  },
  {
   "cell_type": "code",
   "execution_count": null,
   "id": "cfa8410e",
   "metadata": {},
   "outputs": [],
   "source": []
  }
 ],
 "metadata": {
  "kernelspec": {
   "display_name": "Python 3 (ipykernel)",
   "language": "python",
   "name": "python3"
  },
  "language_info": {
   "codemirror_mode": {
    "name": "ipython",
    "version": 3
   },
   "file_extension": ".py",
   "mimetype": "text/x-python",
   "name": "python",
   "nbconvert_exporter": "python",
   "pygments_lexer": "ipython3",
   "version": "3.9.7"
  }
 },
 "nbformat": 4,
 "nbformat_minor": 5
}
